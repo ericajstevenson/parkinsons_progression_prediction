{
 "cells": [
  {
   "cell_type": "code",
   "execution_count": 1,
   "metadata": {},
   "outputs": [],
   "source": [
    "import pandas as pd\n",
    "import numpy as np\n"
   ]
  },
  {
   "cell_type": "markdown",
   "metadata": {},
   "source": [
    "# EDA"
   ]
  },
  {
   "cell_type": "markdown",
   "metadata": {},
   "source": [
    "### Summary\n",
    "- there are 248 patients\n",
    "- patients have more than 1 record for each visit\n",
    "  - there are ~1113 visit ids, so each patient visits around 4-5 times\n",
    "- sampling random patient, there are around 200 proteins found in each of their sample visits"
   ]
  },
  {
   "cell_type": "code",
   "execution_count": 6,
   "metadata": {},
   "outputs": [
    {
     "data": {
      "text/plain": [
       "((232741, 5), (981834, 6), (2615, 8))"
      ]
     },
     "execution_count": 6,
     "metadata": {},
     "output_type": "execute_result"
    }
   ],
   "source": [
    "#load dataset\n",
    "proteins = pd.read_csv(\"amp-parkinsons-disease-progression-prediction/train_proteins.csv\")\n",
    "peptides = pd.read_csv(\"amp-parkinsons-disease-progression-prediction/train_peptides.csv\")\n",
    "clinical = pd.read_csv(\"amp-parkinsons-disease-progression-prediction/train_clinical_data.csv\")\n",
    "\n",
    "proteins.shape,peptides.shape,clinical.shape"
   ]
  },
  {
   "cell_type": "code",
   "execution_count": 7,
   "metadata": {},
   "outputs": [
    {
     "data": {
      "text/html": [
       "<div>\n",
       "<style scoped>\n",
       "    .dataframe tbody tr th:only-of-type {\n",
       "        vertical-align: middle;\n",
       "    }\n",
       "\n",
       "    .dataframe tbody tr th {\n",
       "        vertical-align: top;\n",
       "    }\n",
       "\n",
       "    .dataframe thead th {\n",
       "        text-align: right;\n",
       "    }\n",
       "</style>\n",
       "<table border=\"1\" class=\"dataframe\">\n",
       "  <thead>\n",
       "    <tr style=\"text-align: right;\">\n",
       "      <th></th>\n",
       "      <th>visit_id</th>\n",
       "      <th>visit_month</th>\n",
       "      <th>patient_id</th>\n",
       "      <th>UniProt</th>\n",
       "      <th>NPX</th>\n",
       "    </tr>\n",
       "  </thead>\n",
       "  <tbody>\n",
       "    <tr>\n",
       "      <th>183515</th>\n",
       "      <td>20216_48</td>\n",
       "      <td>48</td>\n",
       "      <td>20216</td>\n",
       "      <td>P01780</td>\n",
       "      <td>7220.93</td>\n",
       "    </tr>\n",
       "    <tr>\n",
       "      <th>90644</th>\n",
       "      <td>40876_12</td>\n",
       "      <td>12</td>\n",
       "      <td>40876</td>\n",
       "      <td>Q02818</td>\n",
       "      <td>15242.30</td>\n",
       "    </tr>\n",
       "    <tr>\n",
       "      <th>187099</th>\n",
       "      <td>26104_48</td>\n",
       "      <td>48</td>\n",
       "      <td>26104</td>\n",
       "      <td>P02763</td>\n",
       "      <td>6456960.00</td>\n",
       "    </tr>\n",
       "    <tr>\n",
       "      <th>76654</th>\n",
       "      <td>16574_12</td>\n",
       "      <td>12</td>\n",
       "      <td>16574</td>\n",
       "      <td>P11142</td>\n",
       "      <td>82523.50</td>\n",
       "    </tr>\n",
       "    <tr>\n",
       "      <th>79193</th>\n",
       "      <td>20791_12</td>\n",
       "      <td>12</td>\n",
       "      <td>20791</td>\n",
       "      <td>P00736</td>\n",
       "      <td>75556.60</td>\n",
       "    </tr>\n",
       "    <tr>\n",
       "      <th>123883</th>\n",
       "      <td>27971_24</td>\n",
       "      <td>24</td>\n",
       "      <td>27971</td>\n",
       "      <td>P61916</td>\n",
       "      <td>203214.00</td>\n",
       "    </tr>\n",
       "    <tr>\n",
       "      <th>33257</th>\n",
       "      <td>56073_0</td>\n",
       "      <td>0</td>\n",
       "      <td>56073</td>\n",
       "      <td>P36980</td>\n",
       "      <td>10048.30</td>\n",
       "    </tr>\n",
       "    <tr>\n",
       "      <th>43549</th>\n",
       "      <td>7151_6</td>\n",
       "      <td>6</td>\n",
       "      <td>7151</td>\n",
       "      <td>O94919</td>\n",
       "      <td>31742.00</td>\n",
       "    </tr>\n",
       "    <tr>\n",
       "      <th>92640</th>\n",
       "      <td>44001_12</td>\n",
       "      <td>12</td>\n",
       "      <td>44001</td>\n",
       "      <td>P05156</td>\n",
       "      <td>98632.00</td>\n",
       "    </tr>\n",
       "    <tr>\n",
       "      <th>200416</th>\n",
       "      <td>58674_48</td>\n",
       "      <td>48</td>\n",
       "      <td>58674</td>\n",
       "      <td>P16035</td>\n",
       "      <td>65892.00</td>\n",
       "    </tr>\n",
       "  </tbody>\n",
       "</table>\n",
       "</div>"
      ],
      "text/plain": [
       "        visit_id  visit_month  patient_id UniProt         NPX\n",
       "183515  20216_48           48       20216  P01780     7220.93\n",
       "90644   40876_12           12       40876  Q02818    15242.30\n",
       "187099  26104_48           48       26104  P02763  6456960.00\n",
       "76654   16574_12           12       16574  P11142    82523.50\n",
       "79193   20791_12           12       20791  P00736    75556.60\n",
       "123883  27971_24           24       27971  P61916   203214.00\n",
       "33257    56073_0            0       56073  P36980    10048.30\n",
       "43549     7151_6            6        7151  O94919    31742.00\n",
       "92640   44001_12           12       44001  P05156    98632.00\n",
       "200416  58674_48           48       58674  P16035    65892.00"
      ]
     },
     "execution_count": 7,
     "metadata": {},
     "output_type": "execute_result"
    }
   ],
   "source": [
    "proteins.sample(10)"
   ]
  },
  {
   "cell_type": "code",
   "execution_count": null,
   "metadata": {},
   "outputs": [],
   "source": []
  },
  {
   "cell_type": "code",
   "execution_count": 22,
   "metadata": {},
   "outputs": [
    {
     "data": {
      "text/plain": [
       "248"
      ]
     },
     "execution_count": 22,
     "metadata": {},
     "output_type": "execute_result"
    }
   ],
   "source": [
    "proteins.patient_id.nunique()"
   ]
  },
  {
   "cell_type": "code",
   "execution_count": 20,
   "metadata": {},
   "outputs": [
    {
     "data": {
      "text/plain": [
       "4.487903225806452"
      ]
     },
     "execution_count": 20,
     "metadata": {},
     "output_type": "execute_result"
    }
   ],
   "source": [
    "# number of unique visits\n",
    "proteins.visit_id.nunique()\n",
    "# average number of visits per patient\n",
    "proteins.visit_id.nunique()/proteins.patient_id.nunique()"
   ]
  },
  {
   "cell_type": "code",
   "execution_count": 21,
   "metadata": {},
   "outputs": [
    {
     "data": {
      "text/plain": [
       "15"
      ]
     },
     "execution_count": 21,
     "metadata": {},
     "output_type": "execute_result"
    }
   ],
   "source": [
    "proteins.visit_month.nunique()"
   ]
  },
  {
   "cell_type": "code",
   "execution_count": 23,
   "metadata": {
    "scrolled": true
   },
   "outputs": [
    {
     "data": {
      "text/plain": [
       "6     214\n",
       "12    209\n",
       "24    208\n",
       "48    208\n",
       "0     205\n",
       "36    203\n",
       "Name: visit_month, dtype: int64"
      ]
     },
     "execution_count": 23,
     "metadata": {},
     "output_type": "execute_result"
    }
   ],
   "source": [
    "proteins[proteins['patient_id'] == 20216]['visit_month'].value_counts()"
   ]
  },
  {
   "cell_type": "markdown",
   "metadata": {},
   "source": [
    "# Data Preprocessing"
   ]
  },
  {
   "cell_type": "code",
   "execution_count": null,
   "metadata": {},
   "outputs": [],
   "source": []
  }
 ],
 "metadata": {
  "kernelspec": {
   "display_name": "Python 3",
   "language": "python",
   "name": "python3"
  },
  "language_info": {
   "codemirror_mode": {
    "name": "ipython",
    "version": 3
   },
   "file_extension": ".py",
   "mimetype": "text/x-python",
   "name": "python",
   "nbconvert_exporter": "python",
   "pygments_lexer": "ipython3",
   "version": "3.8.8"
  }
 },
 "nbformat": 4,
 "nbformat_minor": 1
}
